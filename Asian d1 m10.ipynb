{
 "cells": [
  {
   "cell_type": "code",
   "execution_count": 1,
   "metadata": {},
   "outputs": [
    {
     "name": "stderr",
     "output_type": "stream",
     "text": [
      "C:\\Users\\zhaoyu\\.conda\\envs\\tf\\lib\\site-packages\\h5py\\__init__.py:36: FutureWarning: Conversion of the second argument of issubdtype from `float` to `np.floating` is deprecated. In future, it will be treated as `np.float64 == np.dtype(float).type`.\n",
      "  from ._conv import register_converters as _register_converters\n"
     ]
    }
   ],
   "source": [
    "import train as train\n",
    "import networks as net\n",
    "import models as model\n",
    "\n",
    "import numpy as np\n",
    "import tensorflow as tf\n",
    "import os\n",
    "import multiprocessing\n",
    "import matplotlib.pyplot as plt\n",
    "import csv\n",
    "from tqdm import tqdm\n",
    "import scipy.stats as st\n",
    "# suppress verbose\n",
    "os.environ['TF_CPP_MIN_LOG_LEVEL'] = '3'"
   ]
  },
  {
   "cell_type": "code",
   "execution_count": 2,
   "metadata": {},
   "outputs": [
    {
     "name": "stdout",
     "output_type": "stream",
     "text": [
      "USE 16 THREADS \n"
     ]
    }
   ],
   "source": [
    "_MULTIPROCESSING_CORE_COUNT = multiprocessing.cpu_count()\n",
    "print(\"USE \" + str(_MULTIPROCESSING_CORE_COUNT) + \" THREADS \")"
   ]
  },
  {
   "cell_type": "code",
   "execution_count": 3,
   "metadata": {},
   "outputs": [],
   "source": [
    "dim = 1\n",
    "nbSeg = 10\n",
    "nbStep =1000\n",
    "batchSize= 100\n",
    "\n",
    "x0 = 100.0\n",
    "xInit= x0*np.ones(dim,dtype=np.float32)   \n",
    "Strike = 100.0\n",
    "r = 0.05\n",
    "sigma = 0.15\n",
    "T=1\n",
    "layerSize= [16,16,16,16,16]\n",
    "\n",
    "num_epoch=100\n",
    "num_epochExt=1 # modify training iterations\n",
    "num_epochExt1 =1 # modify training iterations\n",
    "nTest =2 # run times\n",
    "graphLoc  = \"./totF\"\n",
    "\n",
    "signature_test = np.load(\"sig_{}_from_{}_dim_{}_r_{}_sigma_{}_x_{}_K_{}.npy\".format(nbSeg, nbStep,dim,  r, sigma, x0, Strike))[:batchSize]\n",
    "sig_dim = signature_test.shape[-1]"
   ]
  },
  {
   "cell_type": "code",
   "execution_count": 4,
   "metadata": {},
   "outputs": [
    {
     "name": "stdout",
     "output_type": "stream",
     "text": [
      "Dim = 1  T = 1  nbStep = 1000  batchsize = 100  num_epoch = 100   num_epochExt = 1  graph  ./totF\n"
     ]
    }
   ],
   "source": [
    "# create the model\n",
    "model = model.Model(dim,Strike, r, sigma, T, nbStep, nbSeg, delay=0)\n",
    "\n",
    "# create network\n",
    "theNetwork = net.FeedForwardUDU(dim, sig_dim,layerSize,tf.nn.elu)\n",
    "    \n",
    "# create graph\n",
    "resol =  train.Base(xInit, model, Strike, r, sigma, T, nbStep, nbSeg, batchSize, theNetwork , initialLearningRate= 0.01)\n",
    "\n",
    "print(\"Dim =\", dim, \" T =\", T , \" nbStep =\" ,  nbStep , \" batchsize =\",batchSize,  \" num_epoch =\" , num_epoch, \"  num_epochExt =\",   num_epochExt,  \" graph \", graphLoc)"
   ]
  },
  {
   "cell_type": "code",
   "execution_count": 5,
   "metadata": {},
   "outputs": [
    {
     "name": "stdout",
     "output_type": "stream",
     "text": [
      "C:\\Users\\zhaoyu\\Desktop\\sig_american-main\n"
     ]
    }
   ],
   "source": [
    "print(os.getcwd())\n",
    "directory = os.getcwd()"
   ]
  },
  {
   "cell_type": "code",
   "execution_count": 6,
   "metadata": {
    "scrolled": true
   },
   "outputs": [
    {
     "name": "stderr",
     "output_type": "stream",
     "text": [
      " 50%|██████████████████████████████████████████                                          | 1/2 [00:06<00:06,  6.16s/it]"
     ]
    },
    {
     "name": "stdout",
     "output_type": "stream",
     "text": [
      " EstimMC Val is  4.24304  Z0  [[0.9782917]]\n"
     ]
    },
    {
     "name": "stderr",
     "output_type": "stream",
     "text": [
      "100%|████████████████████████████████████████████████████████████████████████████████████| 2/2 [00:12<00:00,  6.17s/it]"
     ]
    },
    {
     "name": "stdout",
     "output_type": "stream",
     "text": [
      " EstimMC Val is  4.4616504  Z0  [[0.98671496]]\n"
     ]
    },
    {
     "name": "stderr",
     "output_type": "stream",
     "text": [
      "\n"
     ]
    }
   ],
   "source": [
    "Y0List = []\n",
    "for i in tqdm(range(nTest)):\n",
    "    Y0, Z0    = resol.BuildAndtrainML(num_epoch=num_epoch, num_epochExt=num_epochExt,num_epochExt1 =num_epochExt1, nbOuterLearning=4 )\n",
    "    print(\" EstimMC Val is \" , Y0,    \" Z0 \", Z0)\n",
    "    Y0List.append(Y0)\n",
    "    yList = np.array(Y0List)\n",
    "    Y0_mean = np.mean(yList)\n",
    "    with open(r\"{}\\y_d{}_seg{}.csv\".format(directory, dim, nbSeg ), 'a', newline='') as file:\n",
    "        writer = csv.writer(file)\n",
    "        writer.writerow([Y0, Z0, Y0_mean])"
   ]
  },
  {
   "cell_type": "code",
   "execution_count": 7,
   "metadata": {},
   "outputs": [
    {
     "name": "stdout",
     "output_type": "stream",
     "text": [
      "EstimMC Val  4.3523455  95% CI  (2.9634919322961424, 5.741199000931397)\n"
     ]
    }
   ],
   "source": [
    "yList = np.array(Y0List)\n",
    "yMean = yList.mean()\n",
    "print(\"EstimMC Val \", yMean, \" 95% CI \", st.t.interval(alpha=0.95, df=len(yList)-1, loc=np.mean(yList), scale=st.sem(yList)) )"
   ]
  }
 ],
 "metadata": {
  "kernelspec": {
   "display_name": "Python 3",
   "language": "python",
   "name": "python3"
  },
  "language_info": {
   "codemirror_mode": {
    "name": "ipython",
    "version": 3
   },
   "file_extension": ".py",
   "mimetype": "text/x-python",
   "name": "python",
   "nbconvert_exporter": "python",
   "pygments_lexer": "ipython3",
   "version": "3.5.4"
  }
 },
 "nbformat": 4,
 "nbformat_minor": 5
}
