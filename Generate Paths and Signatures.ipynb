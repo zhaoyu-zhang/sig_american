{
 "cells": [
  {
   "cell_type": "code",
   "execution_count": 1,
   "metadata": {},
   "outputs": [],
   "source": [
    "import numpy as np\n",
    "import matplotlib.pyplot as plt\n",
    "%matplotlib inline \n",
    "from scipy.stats import norm\n",
    "import time as ttt\n",
    "import iisignature as iisig\n",
    "from tqdm import *"
   ]
  },
  {
   "cell_type": "code",
   "execution_count": 2,
   "metadata": {},
   "outputs": [],
   "source": [
    "steps = 1000\n",
    "segs = 10\n",
    "n_paths = 10000\n",
    "dim = 1"
   ]
  },
  {
   "cell_type": "code",
   "execution_count": 3,
   "metadata": {},
   "outputs": [],
   "source": [
    "x0 = 100.0 # initial condition\n",
    "sigma = 0.15 # volatility\n",
    "r = 0.05 # risk free rate\n",
    "Strike= 100.0 # strike price\n",
    "T = 1 # maturity\n",
    "dt = T/steps # mesh size"
   ]
  },
  {
   "cell_type": "code",
   "execution_count": 4,
   "metadata": {},
   "outputs": [],
   "source": [
    "def generate_t(T, batch_size = 1):\n",
    "    '''\n",
    "    generate time steps\n",
    "    dim = batch_size * (steps+1). eg. 2000 * 101\n",
    "    '''\n",
    "    return np.tile(np.linspace(1e-8, T+1e-8, steps + 1, dtype = np.float32), (batch_size,1))"
   ]
  },
  {
   "cell_type": "code",
   "execution_count": 5,
   "metadata": {},
   "outputs": [
    {
     "data": {
      "text/plain": [
       "1001"
      ]
     },
     "execution_count": 5,
     "metadata": {},
     "output_type": "execute_result"
    }
   ],
   "source": [
    "t = generate_t(T, steps)[0][0:]\n",
    "len(t)"
   ]
  },
  {
   "cell_type": "code",
   "execution_count": 6,
   "metadata": {},
   "outputs": [],
   "source": [
    "# Create GBM Paths from Brownian Motion Paths.\n",
    "def Create_Paths(seed = 666):\n",
    "    '''\n",
    "    input: seed, n_paths, number of segments\n",
    "    output: (1) sigatures: \n",
    "                dim = (n_paths * (segments+1) * sig_dim), \n",
    "            (2) dW_new: new dW of Y_t\n",
    "                dim = (n_paths * segments)\n",
    "            (3) x_T: terminal point of the original paths. (This is not needed, modify later)\n",
    "                dim = (n_paths * 1)\n",
    "            (5) paths: original geometric BM paths.\n",
    "                dim = (n_paths * (steps+1))\n",
    "            (4) dW: increments of BM of the original paths.\n",
    "                dim = (n_paths * steps)\n",
    "    '''\n",
    "\n",
    "    \n",
    "    np.random.seed(seed)\n",
    "    dW = np.sqrt(dt)*np.random.normal(size=(n_paths, dim, steps))\n",
    "    W = np.concatenate((np.tile(1e-6, (n_paths, dim, 1)), np.cumsum(dW, axis = -1, dtype = np.float32)), axis = -1)\n",
    "\n",
    "    \n",
    "    paths = np.zeros([n_paths, dim, steps + 1])\n",
    "    paths[:, :, 0] = np.ones([n_paths, dim]) * x0\n",
    "    factor = np.exp((r-(sigma**2)/2)*dt)\n",
    "    \n",
    "    # This step generates geometric BM paths. Euler scheme.\n",
    "    for k in tqdm(range(steps)):\n",
    "        paths[:, :, k+1] = paths[:, :, k] * (factor * np.exp(sigma * np.squeeze(W[:,:, k+1:k+2] - W[:,:, k:k+1], -1))) \n",
    "    paths = np.array(paths, dtype=np.float32)  \n",
    "    terminal = np.maximum( np.prod(paths[:, :, -1], 1)**(1/dim) - Strike, 0)\n",
    "    return {'paths': paths, 'W': W, 'terminal': terminal}"
   ]
  },
  {
   "cell_type": "code",
   "execution_count": 7,
   "metadata": {},
   "outputs": [
    {
     "name": "stderr",
     "output_type": "stream",
     "text": [
      "100%|████████████████████████████████████████████████████████████████████████████| 1000/1000 [00:00<00:00, 5478.60it/s]\n"
     ]
    }
   ],
   "source": [
    "Paths_and_W = Create_Paths()\n",
    "Paths, W, terminal = Paths_and_W['paths'], Paths_and_W['W'], Paths_and_W['terminal']"
   ]
  },
  {
   "cell_type": "code",
   "execution_count": 8,
   "metadata": {},
   "outputs": [],
   "source": [
    "np.save(\"Paths_{}_dim_{}_r_{}_sigma_{}_x_{}_K_{}.npy\".format(steps, dim, r, sigma, x0, Strike), Paths)\n",
    "np.save(\"W_{}_dim_{}.npy\".format(steps, dim), W)\n",
    "np.save(\"terminal_{}_dim_{}_r_{}_sigma_{}_x_{}_K_{}.npy\".format(steps, dim, r, sigma, x0, Strike), terminal)"
   ]
  },
  {
   "cell_type": "code",
   "execution_count": 9,
   "metadata": {},
   "outputs": [],
   "source": [
    "shrink = int(steps/segs) # eg. shrink steps to segments\n",
    "dt_new = T/segs # new mesh after shrinkage\n",
    "level = 2 # truncation level\n",
    "sig_dim = iisig.siglength(dim+1,level)# dimension of siganature"
   ]
  },
  {
   "cell_type": "code",
   "execution_count": 10,
   "metadata": {},
   "outputs": [],
   "source": [
    "def Create_Signatures(paths, segments = segs):\n",
    "\n",
    "    # Initialization\n",
    "    n_paths = paths.shape[0]\n",
    "    sig = np.zeros((n_paths, segments + 1, sig_dim))\n",
    "    t = generate_t(T, steps)[0, None, :]\n",
    "    \n",
    "    # This step finds the signature at time 0 = x_0\n",
    "    path_cut = paths[:,:,0] # cut paths into segments\n",
    "    time_cut = t[:, 0]  # cut time into segments\n",
    "    s = iisig.prepare(dim+1, level)\n",
    "\n",
    "    for i in range(n_paths): \n",
    "        stream = np.hstack((time_cut.reshape((-1,1)), path_cut[i].reshape((-1,dim))))  #\n",
    "        sig[i, 0, :] = iisig.sig(stream, level) # dim = (84, )\n",
    "        # add path cut end point to sig\n",
    "    \n",
    "    # This step computes signatures.\n",
    "    for k in tqdm(range(segments)):\n",
    "        path_cut = paths[:, :, :(k+1)*shrink+1]\n",
    "        time_cut = t[:, :(k+1)*shrink+1]\n",
    "        for i in range(n_paths):\n",
    "            stack = np.vstack((time_cut, path_cut[i]))\n",
    "            stream = stack.T\n",
    "            sig[i, k+1, :] = iisig.sig(stream, level)\n",
    "            \n",
    "    return sig"
   ]
  },
  {
   "cell_type": "code",
   "execution_count": 11,
   "metadata": {},
   "outputs": [
    {
     "name": "stdout",
     "output_type": "stream",
     "text": [
      "Creating Sig and Log-Sig with 10 segments from Paths with 1000 steps... \n"
     ]
    },
    {
     "name": "stderr",
     "output_type": "stream",
     "text": [
      "100%|██████████████████████████████████████████████████████████████████████████████████| 10/10 [00:05<00:00,  1.98it/s]\n"
     ]
    }
   ],
   "source": [
    "print(\"Creating Sig and Log-Sig with {} segments from Paths with {} steps... \".format(segs, steps))\n",
    "sig = Create_Signatures(Paths, segments = segs)\n",
    "np.save(\"sig_{}_from_{}_dim_{}_r_{}_sigma_{}_x_{}_K_{}.npy\".format(segs,  steps, dim,r, sigma, x0, Strike), sig)"
   ]
  },
  {
   "cell_type": "code",
   "execution_count": 12,
   "metadata": {},
   "outputs": [],
   "source": [
    "# Selection of W from W\n",
    "W_full= np.load(\"W_{}_dim_{}.npy\".format(steps, dim))\n",
    "selection = np.linspace(0,steps, segs+1, dtype = np.int)\n",
    "W_segs = W_full[:,:, selection]\n",
    "np.save(\"W_{}_from_{}_dim_{}.npy\".format(segs, steps, dim), W_segs)\n",
    "Path_segs = Paths[:,:,selection]\n",
    "np.save(\"Paths_{}_from_{}_dim_{}_r_{}_sigma_{}_x_{}_K_{}.npy\".format(segs, steps, dim, r, sigma, x0, Strike), Path_segs)"
   ]
  }
 ],
 "metadata": {
  "kernelspec": {
   "display_name": "Python 3",
   "language": "python",
   "name": "python3"
  },
  "language_info": {
   "codemirror_mode": {
    "name": "ipython",
    "version": 3
   },
   "file_extension": ".py",
   "mimetype": "text/x-python",
   "name": "python",
   "nbconvert_exporter": "python",
   "pygments_lexer": "ipython3",
   "version": "3.5.4"
  }
 },
 "nbformat": 4,
 "nbformat_minor": 2
}
